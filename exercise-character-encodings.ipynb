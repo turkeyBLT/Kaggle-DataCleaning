{
 "cells": [
  {
   "cell_type": "markdown",
   "id": "4df4a056",
   "metadata": {
    "papermill": {
     "duration": 0.015356,
     "end_time": "2022-01-10T16:40:17.478522",
     "exception": false,
     "start_time": "2022-01-10T16:40:17.463166",
     "status": "completed"
    },
    "tags": []
   },
   "source": [
    "**This notebook is an exercise in the [Data Cleaning](https://www.kaggle.com/learn/data-cleaning) course.  You can reference the tutorial at [this link](https://www.kaggle.com/alexisbcook/character-encodings).**\n",
    "\n",
    "---\n"
   ]
  },
  {
   "cell_type": "markdown",
   "id": "6abb54c9",
   "metadata": {
    "papermill": {
     "duration": 0.013509,
     "end_time": "2022-01-10T16:40:17.507915",
     "exception": false,
     "start_time": "2022-01-10T16:40:17.494406",
     "status": "completed"
    },
    "tags": []
   },
   "source": [
    "In this exercise, you'll apply what you learned in the **Character encodings** tutorial.\n",
    "\n",
    "# Setup\n",
    "\n",
    "The questions below will give you feedback on your work. Run the following cell to set up the feedback system."
   ]
  },
  {
   "cell_type": "code",
   "execution_count": 1,
   "id": "943fbc88",
   "metadata": {
    "execution": {
     "iopub.execute_input": "2022-01-10T16:40:17.544073Z",
     "iopub.status.busy": "2022-01-10T16:40:17.543411Z",
     "iopub.status.idle": "2022-01-10T16:40:17.634753Z",
     "shell.execute_reply": "2022-01-10T16:40:17.634064Z",
     "shell.execute_reply.started": "2022-01-10T16:10:42.444535Z"
    },
    "papermill": {
     "duration": 0.113428,
     "end_time": "2022-01-10T16:40:17.634964",
     "exception": false,
     "start_time": "2022-01-10T16:40:17.521536",
     "status": "completed"
    },
    "tags": []
   },
   "outputs": [
    {
     "name": "stdout",
     "output_type": "stream",
     "text": [
      "Setup Complete\n"
     ]
    }
   ],
   "source": [
    "from learntools.core import binder\n",
    "binder.bind(globals())\n",
    "from learntools.data_cleaning.ex4 import *\n",
    "print(\"Setup Complete\")"
   ]
  },
  {
   "cell_type": "markdown",
   "id": "550b5f7f",
   "metadata": {
    "papermill": {
     "duration": 0.013682,
     "end_time": "2022-01-10T16:40:17.663317",
     "exception": false,
     "start_time": "2022-01-10T16:40:17.649635",
     "status": "completed"
    },
    "tags": []
   },
   "source": [
    "# Get our environment set up\n",
    "\n",
    "The first thing we'll need to do is load in the libraries we'll be using."
   ]
  },
  {
   "cell_type": "code",
   "execution_count": 2,
   "id": "8151c918",
   "metadata": {
    "execution": {
     "iopub.execute_input": "2022-01-10T16:40:17.698936Z",
     "iopub.status.busy": "2022-01-10T16:40:17.698208Z",
     "iopub.status.idle": "2022-01-10T16:40:17.701024Z",
     "shell.execute_reply": "2022-01-10T16:40:17.701554Z",
     "shell.execute_reply.started": "2022-01-10T16:11:01.300536Z"
    },
    "papermill": {
     "duration": 0.024063,
     "end_time": "2022-01-10T16:40:17.701721",
     "exception": false,
     "start_time": "2022-01-10T16:40:17.677658",
     "status": "completed"
    },
    "tags": []
   },
   "outputs": [],
   "source": [
    "# modules we'll use\n",
    "import pandas as pd\n",
    "import numpy as np\n",
    "\n",
    "# helpful character encoding module\n",
    "import chardet\n",
    "\n",
    "# set seed for reproducibility\n",
    "np.random.seed(0)"
   ]
  },
  {
   "cell_type": "markdown",
   "id": "18c1918a",
   "metadata": {
    "papermill": {
     "duration": 0.013694,
     "end_time": "2022-01-10T16:40:17.729322",
     "exception": false,
     "start_time": "2022-01-10T16:40:17.715628",
     "status": "completed"
    },
    "tags": []
   },
   "source": [
    "# 1) What are encodings?\n",
    "\n",
    "You're working with a dataset composed of bytes.  Run the code cell below to print a sample entry."
   ]
  },
  {
   "cell_type": "code",
   "execution_count": 3,
   "id": "851799c3",
   "metadata": {
    "execution": {
     "iopub.execute_input": "2022-01-10T16:40:17.762792Z",
     "iopub.status.busy": "2022-01-10T16:40:17.761822Z",
     "iopub.status.idle": "2022-01-10T16:40:17.767206Z",
     "shell.execute_reply": "2022-01-10T16:40:17.767683Z",
     "shell.execute_reply.started": "2022-01-10T16:11:19.574093Z"
    },
    "papermill": {
     "duration": 0.023073,
     "end_time": "2022-01-10T16:40:17.767887",
     "exception": false,
     "start_time": "2022-01-10T16:40:17.744814",
     "status": "completed"
    },
    "tags": []
   },
   "outputs": [
    {
     "name": "stdout",
     "output_type": "stream",
     "text": [
      "b'\\xa7A\\xa6n'\n",
      "data type: <class 'bytes'>\n"
     ]
    }
   ],
   "source": [
    "sample_entry = b'\\xa7A\\xa6n'\n",
    "print(sample_entry)\n",
    "print('data type:', type(sample_entry))"
   ]
  },
  {
   "cell_type": "markdown",
   "id": "c6fa0534",
   "metadata": {
    "papermill": {
     "duration": 0.014491,
     "end_time": "2022-01-10T16:40:17.796690",
     "exception": false,
     "start_time": "2022-01-10T16:40:17.782199",
     "status": "completed"
    },
    "tags": []
   },
   "source": [
    "You notice that it doesn't use the standard UTF-8 encoding. \n",
    "\n",
    "Use the next code cell to create a variable `new_entry` that changes the encoding from `\"big5-tw\"` to `\"utf-8\"`.  `new_entry` should have the bytes datatype."
   ]
  },
  {
   "cell_type": "code",
   "execution_count": 4,
   "id": "b4da234b",
   "metadata": {
    "execution": {
     "iopub.execute_input": "2022-01-10T16:40:17.830008Z",
     "iopub.status.busy": "2022-01-10T16:40:17.828826Z",
     "iopub.status.idle": "2022-01-10T16:40:17.840404Z",
     "shell.execute_reply": "2022-01-10T16:40:17.839892Z",
     "shell.execute_reply.started": "2022-01-10T16:17:20.259014Z"
    },
    "papermill": {
     "duration": 0.029455,
     "end_time": "2022-01-10T16:40:17.840549",
     "exception": false,
     "start_time": "2022-01-10T16:40:17.811094",
     "status": "completed"
    },
    "tags": []
   },
   "outputs": [
    {
     "data": {
      "application/javascript": [
       "parent.postMessage({\"jupyterEvent\": \"custom.exercise_interaction\", \"data\": {\"outcomeType\": 1, \"valueTowardsCompletion\": 0.3333333333333333, \"interactionType\": 1, \"questionType\": 1, \"questionId\": \"1_EncodingsIntro\", \"learnToolsVersion\": \"0.3.4\", \"failureMessage\": \"\", \"exceptionClass\": \"\", \"trace\": \"\"}}, \"*\")"
      ],
      "text/plain": [
       "<IPython.core.display.Javascript object>"
      ]
     },
     "metadata": {},
     "output_type": "display_data"
    },
    {
     "data": {
      "text/markdown": [
       "<span style=\"color:#33cc33\">Correct</span>"
      ],
      "text/plain": [
       "Correct"
      ]
     },
     "metadata": {},
     "output_type": "display_data"
    }
   ],
   "source": [
    "entry_decoded = sample_entry.decode(\"big5-tw\")\n",
    "new_entry = entry_decoded.encode()\n",
    "new_entry\n",
    "\n",
    "# Check your answer\n",
    "q1.check()"
   ]
  },
  {
   "cell_type": "code",
   "execution_count": 5,
   "id": "f8cffa49",
   "metadata": {
    "execution": {
     "iopub.execute_input": "2022-01-10T16:40:17.879214Z",
     "iopub.status.busy": "2022-01-10T16:40:17.878288Z",
     "iopub.status.idle": "2022-01-10T16:40:17.884643Z",
     "shell.execute_reply": "2022-01-10T16:40:17.884143Z",
     "shell.execute_reply.started": "2022-01-10T16:13:05.318533Z"
    },
    "papermill": {
     "duration": 0.027502,
     "end_time": "2022-01-10T16:40:17.884808",
     "exception": false,
     "start_time": "2022-01-10T16:40:17.857306",
     "status": "completed"
    },
    "tags": []
   },
   "outputs": [
    {
     "data": {
      "application/javascript": [
       "parent.postMessage({\"jupyterEvent\": \"custom.exercise_interaction\", \"data\": {\"interactionType\": 3, \"questionType\": 1, \"questionId\": \"1_EncodingsIntro\", \"learnToolsVersion\": \"0.3.4\", \"valueTowardsCompletion\": 0.0, \"failureMessage\": \"\", \"exceptionClass\": \"\", \"trace\": \"\", \"outcomeType\": 4}}, \"*\")"
      ],
      "text/plain": [
       "<IPython.core.display.Javascript object>"
      ]
     },
     "metadata": {},
     "output_type": "display_data"
    },
    {
     "data": {
      "text/markdown": [
       "<span style=\"color:#33cc99\">Solution:</span> \n",
       "```python\n",
       "before = sample_entry.decode(\"big5-tw\")\n",
       "new_entry = before.encode()\n",
       "\n",
       "```"
      ],
      "text/plain": [
       "Solution: \n",
       "```python\n",
       "before = sample_entry.decode(\"big5-tw\")\n",
       "new_entry = before.encode()\n",
       "\n",
       "```"
      ]
     },
     "metadata": {},
     "output_type": "display_data"
    }
   ],
   "source": [
    "# Lines below will give you a hint or solution code\n",
    "#q1.hint()\n",
    "q1.solution()"
   ]
  },
  {
   "cell_type": "markdown",
   "id": "ab8b5cfb",
   "metadata": {
    "papermill": {
     "duration": 0.015976,
     "end_time": "2022-01-10T16:40:17.917052",
     "exception": false,
     "start_time": "2022-01-10T16:40:17.901076",
     "status": "completed"
    },
    "tags": []
   },
   "source": [
    "# 2) Reading in files with encoding problems\n",
    "\n",
    "Use the code cell below to read in this file at path `\"../input/fatal-police-shootings-in-the-us/PoliceKillingsUS.csv\"`.  \n",
    "\n",
    "Figure out what the correct encoding should be and read in the file to a DataFrame `police_killings`."
   ]
  },
  {
   "cell_type": "code",
   "execution_count": 6,
   "id": "3f508642",
   "metadata": {
    "execution": {
     "iopub.execute_input": "2022-01-10T16:40:17.953684Z",
     "iopub.status.busy": "2022-01-10T16:40:17.952689Z",
     "iopub.status.idle": "2022-01-10T16:40:21.134608Z",
     "shell.execute_reply": "2022-01-10T16:40:21.135158Z",
     "shell.execute_reply.started": "2022-01-10T16:27:33.768969Z"
    },
    "papermill": {
     "duration": 3.202004,
     "end_time": "2022-01-10T16:40:21.135359",
     "exception": false,
     "start_time": "2022-01-10T16:40:17.933355",
     "status": "completed"
    },
    "tags": []
   },
   "outputs": [
    {
     "data": {
      "application/javascript": [
       "parent.postMessage({\"jupyterEvent\": \"custom.exercise_interaction\", \"data\": {\"outcomeType\": 1, \"valueTowardsCompletion\": 0.3333333333333333, \"interactionType\": 1, \"questionType\": 1, \"questionId\": \"2_ReadIn\", \"learnToolsVersion\": \"0.3.4\", \"failureMessage\": \"\", \"exceptionClass\": \"\", \"trace\": \"\"}}, \"*\")"
      ],
      "text/plain": [
       "<IPython.core.display.Javascript object>"
      ]
     },
     "metadata": {},
     "output_type": "display_data"
    },
    {
     "data": {
      "text/markdown": [
       "<span style=\"color:#33cc33\">Correct</span>"
      ],
      "text/plain": [
       "Correct"
      ]
     },
     "metadata": {},
     "output_type": "display_data"
    }
   ],
   "source": [
    "# TODO: Load in the DataFrame correctly.\n",
    "with open(\"../input/fatal-police-shootings-in-the-us/PoliceKillingsUS.csv\", 'rb') as file:\n",
    "    result = chardet.detect(file.read())\n",
    "\n",
    "police_killings = pd.read_csv(\"../input/fatal-police-shootings-in-the-us/PoliceKillingsUS.csv\", encoding='Windows-1252')\n",
    "police_killings\n",
    "\n",
    "# Check your answer\n",
    "q2.check()"
   ]
  },
  {
   "cell_type": "markdown",
   "id": "ff05b352",
   "metadata": {
    "papermill": {
     "duration": 0.017583,
     "end_time": "2022-01-10T16:40:21.171006",
     "exception": false,
     "start_time": "2022-01-10T16:40:21.153423",
     "status": "completed"
    },
    "tags": []
   },
   "source": [
    "Feel free to use any additional code cells for supplemental work.  To get credit for finishing this question, you'll need to run `q2.check()` and get a result of **Correct**."
   ]
  },
  {
   "cell_type": "code",
   "execution_count": 7,
   "id": "f29853c4",
   "metadata": {
    "execution": {
     "iopub.execute_input": "2022-01-10T16:40:21.212575Z",
     "iopub.status.busy": "2022-01-10T16:40:21.211690Z",
     "iopub.status.idle": "2022-01-10T16:40:21.214997Z",
     "shell.execute_reply": "2022-01-10T16:40:21.214445Z"
    },
    "papermill": {
     "duration": 0.026185,
     "end_time": "2022-01-10T16:40:21.215177",
     "exception": false,
     "start_time": "2022-01-10T16:40:21.188992",
     "status": "completed"
    },
    "tags": []
   },
   "outputs": [],
   "source": [
    "# (Optional) Use this code cell for any additional work."
   ]
  },
  {
   "cell_type": "code",
   "execution_count": 8,
   "id": "77e1c68b",
   "metadata": {
    "execution": {
     "iopub.execute_input": "2022-01-10T16:40:21.255829Z",
     "iopub.status.busy": "2022-01-10T16:40:21.254798Z",
     "iopub.status.idle": "2022-01-10T16:40:21.262468Z",
     "shell.execute_reply": "2022-01-10T16:40:21.263042Z",
     "shell.execute_reply.started": "2022-01-10T16:25:40.700116Z"
    },
    "papermill": {
     "duration": 0.029845,
     "end_time": "2022-01-10T16:40:21.263250",
     "exception": false,
     "start_time": "2022-01-10T16:40:21.233405",
     "status": "completed"
    },
    "tags": []
   },
   "outputs": [
    {
     "data": {
      "application/javascript": [
       "parent.postMessage({\"jupyterEvent\": \"custom.exercise_interaction\", \"data\": {\"interactionType\": 3, \"questionType\": 1, \"questionId\": \"2_ReadIn\", \"learnToolsVersion\": \"0.3.4\", \"valueTowardsCompletion\": 0.0, \"failureMessage\": \"\", \"exceptionClass\": \"\", \"trace\": \"\", \"outcomeType\": 4}}, \"*\")"
      ],
      "text/plain": [
       "<IPython.core.display.Javascript object>"
      ]
     },
     "metadata": {},
     "output_type": "display_data"
    },
    {
     "data": {
      "text/markdown": [
       "<span style=\"color:#33cc99\">Solution:</span> \n",
       "```python\n",
       "police_killings = pd.read_csv(\"../input/fatal-police-shootings-in-the-us/PoliceKillingsUS.csv\", encoding='Windows-1252')\n",
       "\n",
       "```"
      ],
      "text/plain": [
       "Solution: \n",
       "```python\n",
       "police_killings = pd.read_csv(\"../input/fatal-police-shootings-in-the-us/PoliceKillingsUS.csv\", encoding='Windows-1252')\n",
       "\n",
       "```"
      ]
     },
     "metadata": {},
     "output_type": "display_data"
    }
   ],
   "source": [
    "# Lines below will give you a hint or solution code\n",
    "#q2.hint()\n",
    "q2.solution()"
   ]
  },
  {
   "cell_type": "markdown",
   "id": "da6debea",
   "metadata": {
    "papermill": {
     "duration": 0.018497,
     "end_time": "2022-01-10T16:40:21.301082",
     "exception": false,
     "start_time": "2022-01-10T16:40:21.282585",
     "status": "completed"
    },
    "tags": []
   },
   "source": [
    "# 3) Saving your files with UTF-8 encoding\n",
    "\n",
    "Save a version of the police killings dataset to CSV with UTF-8 encoding.  Your answer will be marked correct after saving this file.  \n",
    "\n",
    "Note: When using the `to_csv()` method, supply only the name of the file (e.g., `\"my_file.csv\"`).  This saves the file at the filepath `\"/kaggle/working/my_file.csv\"`."
   ]
  },
  {
   "cell_type": "code",
   "execution_count": 9,
   "id": "8f948808",
   "metadata": {
    "execution": {
     "iopub.execute_input": "2022-01-10T16:40:21.341987Z",
     "iopub.status.busy": "2022-01-10T16:40:21.341298Z",
     "iopub.status.idle": "2022-01-10T16:40:21.386126Z",
     "shell.execute_reply": "2022-01-10T16:40:21.385464Z",
     "shell.execute_reply.started": "2022-01-10T16:30:21.408973Z"
    },
    "papermill": {
     "duration": 0.066872,
     "end_time": "2022-01-10T16:40:21.386308",
     "exception": false,
     "start_time": "2022-01-10T16:40:21.319436",
     "status": "completed"
    },
    "tags": []
   },
   "outputs": [
    {
     "data": {
      "application/javascript": [
       "parent.postMessage({\"jupyterEvent\": \"custom.exercise_interaction\", \"data\": {\"outcomeType\": 1, \"valueTowardsCompletion\": 0.3333333333333333, \"interactionType\": 1, \"questionType\": 2, \"questionId\": \"3_SaveCSV\", \"learnToolsVersion\": \"0.3.4\", \"failureMessage\": \"\", \"exceptionClass\": \"\", \"trace\": \"\"}}, \"*\")"
      ],
      "text/plain": [
       "<IPython.core.display.Javascript object>"
      ]
     },
     "metadata": {},
     "output_type": "display_data"
    },
    {
     "data": {
      "text/markdown": [
       "<span style=\"color:#33cc33\">Correct</span>"
      ],
      "text/plain": [
       "Correct"
      ]
     },
     "metadata": {},
     "output_type": "display_data"
    }
   ],
   "source": [
    "# TODO: Save the police killings dataset to CSV\n",
    "police_killings.to_csv(\"my_file.csv\")\n",
    "\n",
    "# Check your answer\n",
    "q3.check()"
   ]
  },
  {
   "cell_type": "code",
   "execution_count": 10,
   "id": "3e7e195e",
   "metadata": {
    "execution": {
     "iopub.execute_input": "2022-01-10T16:40:21.431691Z",
     "iopub.status.busy": "2022-01-10T16:40:21.431048Z",
     "iopub.status.idle": "2022-01-10T16:40:21.438586Z",
     "shell.execute_reply": "2022-01-10T16:40:21.439175Z",
     "shell.execute_reply.started": "2022-01-10T16:28:49.492102Z"
    },
    "papermill": {
     "duration": 0.032628,
     "end_time": "2022-01-10T16:40:21.439377",
     "exception": false,
     "start_time": "2022-01-10T16:40:21.406749",
     "status": "completed"
    },
    "tags": []
   },
   "outputs": [
    {
     "data": {
      "application/javascript": [
       "parent.postMessage({\"jupyterEvent\": \"custom.exercise_interaction\", \"data\": {\"interactionType\": 3, \"questionType\": 2, \"questionId\": \"3_SaveCSV\", \"learnToolsVersion\": \"0.3.4\", \"valueTowardsCompletion\": 0.0, \"failureMessage\": \"\", \"exceptionClass\": \"\", \"trace\": \"\", \"outcomeType\": 4}}, \"*\")"
      ],
      "text/plain": [
       "<IPython.core.display.Javascript object>"
      ]
     },
     "metadata": {},
     "output_type": "display_data"
    },
    {
     "data": {
      "text/markdown": [
       "<span style=\"color:#33cc99\">Solution:</span> \n",
       "```python\n",
       "\n",
       "police_killings.to_csv(\"my_file.csv\")\n",
       "\n",
       "```"
      ],
      "text/plain": [
       "Solution: \n",
       "```python\n",
       "\n",
       "police_killings.to_csv(\"my_file.csv\")\n",
       "\n",
       "```"
      ]
     },
     "metadata": {},
     "output_type": "display_data"
    }
   ],
   "source": [
    "# Lines below will give you a hint or solution code\n",
    "#q3.hint()\n",
    "q3.solution()"
   ]
  },
  {
   "cell_type": "markdown",
   "id": "35ea5da6",
   "metadata": {
    "papermill": {
     "duration": 0.021598,
     "end_time": "2022-01-10T16:40:21.482028",
     "exception": false,
     "start_time": "2022-01-10T16:40:21.460430",
     "status": "completed"
    },
    "tags": []
   },
   "source": [
    "# (Optional) More practice\n",
    "\n",
    "Check out [this dataset of files in different character encodings](https://www.kaggle.com/rtatman/character-encoding-examples). Can you read in all the files with their original encodings and them save them out as UTF-8 files?\n",
    "\n",
    "If you have a file that's in UTF-8 but has just a couple of weird-looking characters in it, you can try out the [ftfy module](https://ftfy.readthedocs.io/en/latest/#) and see if it helps. \n",
    "\n",
    "# Keep going\n",
    "\n",
    "In the final lesson, learn how to [**clean up inconsistent text entries**](https://www.kaggle.com/alexisbcook/inconsistent-data-entry) in your dataset."
   ]
  },
  {
   "cell_type": "markdown",
   "id": "03c29928",
   "metadata": {
    "papermill": {
     "duration": 0.022073,
     "end_time": "2022-01-10T16:40:21.525278",
     "exception": false,
     "start_time": "2022-01-10T16:40:21.503205",
     "status": "completed"
    },
    "tags": []
   },
   "source": [
    "---\n",
    "\n",
    "\n",
    "\n",
    "\n",
    "*Have questions or comments? Visit the [course discussion forum](https://www.kaggle.com/learn/data-cleaning/discussion) to chat with other learners.*"
   ]
  }
 ],
 "metadata": {
  "kernelspec": {
   "display_name": "Python 3",
   "language": "python",
   "name": "python3"
  },
  "language_info": {
   "codemirror_mode": {
    "name": "ipython",
    "version": 3
   },
   "file_extension": ".py",
   "mimetype": "text/x-python",
   "name": "python",
   "nbconvert_exporter": "python",
   "pygments_lexer": "ipython3",
   "version": "3.7.12"
  },
  "papermill": {
   "default_parameters": {},
   "duration": 15.962497,
   "end_time": "2022-01-10T16:40:22.461889",
   "environment_variables": {},
   "exception": null,
   "input_path": "__notebook__.ipynb",
   "output_path": "__notebook__.ipynb",
   "parameters": {},
   "start_time": "2022-01-10T16:40:06.499392",
   "version": "2.3.3"
  }
 },
 "nbformat": 4,
 "nbformat_minor": 5
}
