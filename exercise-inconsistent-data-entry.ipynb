{
 "cells": [
  {
   "cell_type": "markdown",
   "id": "55279c91",
   "metadata": {
    "papermill": {
     "duration": 0.018216,
     "end_time": "2022-01-10T18:43:10.943245",
     "exception": false,
     "start_time": "2022-01-10T18:43:10.925029",
     "status": "completed"
    },
    "tags": []
   },
   "source": [
    "**This notebook is an exercise in the [Data Cleaning](https://www.kaggle.com/learn/data-cleaning) course.  You can reference the tutorial at [this link](https://www.kaggle.com/alexisbcook/inconsistent-data-entry).**\n",
    "\n",
    "---\n"
   ]
  },
  {
   "cell_type": "markdown",
   "id": "bd3f0670",
   "metadata": {
    "papermill": {
     "duration": 0.016671,
     "end_time": "2022-01-10T18:43:10.978773",
     "exception": false,
     "start_time": "2022-01-10T18:43:10.962102",
     "status": "completed"
    },
    "tags": []
   },
   "source": [
    "In this exercise, you'll apply what you learned in the **Inconsistent data entry** tutorial.\n",
    "\n",
    "# Setup\n",
    "\n",
    "The questions below will give you feedback on your work. Run the following cell to set up the feedback system."
   ]
  },
  {
   "cell_type": "code",
   "execution_count": 1,
   "id": "540bcbb1",
   "metadata": {
    "execution": {
     "iopub.execute_input": "2022-01-10T18:43:11.017776Z",
     "iopub.status.busy": "2022-01-10T18:43:11.016404Z",
     "iopub.status.idle": "2022-01-10T18:43:11.130759Z",
     "shell.execute_reply": "2022-01-10T18:43:11.131942Z",
     "shell.execute_reply.started": "2022-01-10T18:22:46.251207Z"
    },
    "papermill": {
     "duration": 0.13662,
     "end_time": "2022-01-10T18:43:11.132609",
     "exception": false,
     "start_time": "2022-01-10T18:43:10.995989",
     "status": "completed"
    },
    "tags": []
   },
   "outputs": [
    {
     "name": "stdout",
     "output_type": "stream",
     "text": [
      "Setup Complete\n"
     ]
    }
   ],
   "source": [
    "from learntools.core import binder\n",
    "binder.bind(globals())\n",
    "from learntools.data_cleaning.ex5 import *\n",
    "print(\"Setup Complete\")"
   ]
  },
  {
   "cell_type": "markdown",
   "id": "99189a57",
   "metadata": {
    "papermill": {
     "duration": 0.022061,
     "end_time": "2022-01-10T18:43:11.175763",
     "exception": false,
     "start_time": "2022-01-10T18:43:11.153702",
     "status": "completed"
    },
    "tags": []
   },
   "source": [
    "# Get our environment set up\n",
    "\n",
    "The first thing we'll need to do is load in the libraries and dataset we'll be using.  We use the same dataset from the tutorial."
   ]
  },
  {
   "cell_type": "code",
   "execution_count": 2,
   "id": "eccb74ae",
   "metadata": {
    "execution": {
     "iopub.execute_input": "2022-01-10T18:43:11.224989Z",
     "iopub.status.busy": "2022-01-10T18:43:11.224221Z",
     "iopub.status.idle": "2022-01-10T18:43:11.238357Z",
     "shell.execute_reply": "2022-01-10T18:43:11.237736Z",
     "shell.execute_reply.started": "2022-01-10T18:23:19.697862Z"
    },
    "papermill": {
     "duration": 0.04157,
     "end_time": "2022-01-10T18:43:11.238573",
     "exception": false,
     "start_time": "2022-01-10T18:43:11.197003",
     "status": "completed"
    },
    "tags": []
   },
   "outputs": [],
   "source": [
    "# modules we'll use\n",
    "import pandas as pd\n",
    "import numpy as np\n",
    "\n",
    "# helpful modules\n",
    "import fuzzywuzzy\n",
    "from fuzzywuzzy import process\n",
    "import chardet\n",
    "\n",
    "# read in all our data\n",
    "professors = pd.read_csv(\"../input/pakistan-intellectual-capital/pakistan_intellectual_capital.csv\")\n",
    "\n",
    "# set seed for reproducibility\n",
    "np.random.seed(0)"
   ]
  },
  {
   "cell_type": "markdown",
   "id": "bc5459e9",
   "metadata": {
    "papermill": {
     "duration": 0.017112,
     "end_time": "2022-01-10T18:43:11.272958",
     "exception": false,
     "start_time": "2022-01-10T18:43:11.255846",
     "status": "completed"
    },
    "tags": []
   },
   "source": [
    "Next, we'll redo all of the work that we did in the tutorial."
   ]
  },
  {
   "cell_type": "code",
   "execution_count": 3,
   "id": "75edc915",
   "metadata": {
    "execution": {
     "iopub.execute_input": "2022-01-10T18:43:11.311239Z",
     "iopub.status.busy": "2022-01-10T18:43:11.310419Z",
     "iopub.status.idle": "2022-01-10T18:43:11.326701Z",
     "shell.execute_reply": "2022-01-10T18:43:11.327221Z",
     "shell.execute_reply.started": "2022-01-10T18:27:31.030824Z"
    },
    "papermill": {
     "duration": 0.037182,
     "end_time": "2022-01-10T18:43:11.327423",
     "exception": false,
     "start_time": "2022-01-10T18:43:11.290241",
     "status": "completed"
    },
    "tags": []
   },
   "outputs": [
    {
     "name": "stdout",
     "output_type": "stream",
     "text": [
      "All done!\n"
     ]
    }
   ],
   "source": [
    "# convert to lower case\n",
    "professors['Country'] = professors['Country'].str.lower()\n",
    "# remove trailing white spaces\n",
    "professors['Country'] = professors['Country'].str.strip()\n",
    "\n",
    "# get the top 10 closest matches to \"south korea\"\n",
    "countries = professors['Country'].unique()\n",
    "matches = fuzzywuzzy.process.extract(\"south korea\", countries, limit=10, scorer=fuzzywuzzy.fuzz.token_sort_ratio)\n",
    "\n",
    "def replace_matches_in_column(df, column, string_to_match, min_ratio = 47):\n",
    "    # get a list of unique strings\n",
    "    strings = df[column].unique()\n",
    "    \n",
    "    # get the top 10 closest matches to our input string\n",
    "    matches = fuzzywuzzy.process.extract(string_to_match, strings, \n",
    "                                         limit=10, scorer=fuzzywuzzy.fuzz.token_sort_ratio)\n",
    "\n",
    "    # only get matches with a ratio > 90\n",
    "    close_matches = [matches[0] for matches in matches if matches[1] >= min_ratio]\n",
    "\n",
    "    # get the rows of all the close matches in our dataframe\n",
    "    rows_with_matches = df[column].isin(close_matches)\n",
    "\n",
    "    # replace all rows with close matches with the input matches \n",
    "    df.loc[rows_with_matches, column] = string_to_match\n",
    "    \n",
    "    # let us know the function's done\n",
    "    print(\"All done!\")\n",
    "    \n",
    "replace_matches_in_column(df=professors, column='Country', string_to_match=\"south korea\")\n",
    "countries = professors['Country'].unique()"
   ]
  },
  {
   "cell_type": "markdown",
   "id": "cdb2d860",
   "metadata": {
    "papermill": {
     "duration": 0.016009,
     "end_time": "2022-01-10T18:43:11.359759",
     "exception": false,
     "start_time": "2022-01-10T18:43:11.343750",
     "status": "completed"
    },
    "tags": []
   },
   "source": [
    "# 1) Examine another column\n",
    "\n",
    "Write code below to take a look at all the unique values in the \"Graduated from\" column."
   ]
  },
  {
   "cell_type": "code",
   "execution_count": 4,
   "id": "06835c60",
   "metadata": {
    "execution": {
     "iopub.execute_input": "2022-01-10T18:43:11.397724Z",
     "iopub.status.busy": "2022-01-10T18:43:11.396703Z",
     "iopub.status.idle": "2022-01-10T18:43:11.402308Z",
     "shell.execute_reply": "2022-01-10T18:43:11.403006Z",
     "shell.execute_reply.started": "2022-01-10T18:36:53.364169Z"
    },
    "papermill": {
     "duration": 0.026726,
     "end_time": "2022-01-10T18:43:11.403239",
     "exception": false,
     "start_time": "2022-01-10T18:43:11.376513",
     "status": "completed"
    },
    "tags": []
   },
   "outputs": [],
   "source": [
    "# TODO: Your code here\n",
    "graduated_from = professors['Graduated from'].unique()\n",
    "graduated_from.sort()"
   ]
  },
  {
   "cell_type": "markdown",
   "id": "dcf1795c",
   "metadata": {
    "papermill": {
     "duration": 0.017454,
     "end_time": "2022-01-10T18:43:11.438556",
     "exception": false,
     "start_time": "2022-01-10T18:43:11.421102",
     "status": "completed"
    },
    "tags": []
   },
   "source": [
    "Do you notice any inconsistencies in the data?  Can any of the inconsistencies in the data be fixed by removing white spaces at the beginning and end of cells?\n",
    "\n",
    "Once you have answered these questions, run the code cell below to get credit for your work."
   ]
  },
  {
   "cell_type": "code",
   "execution_count": 5,
   "id": "00797ef5",
   "metadata": {
    "execution": {
     "iopub.execute_input": "2022-01-10T18:43:11.478245Z",
     "iopub.status.busy": "2022-01-10T18:43:11.477103Z",
     "iopub.status.idle": "2022-01-10T18:43:11.489101Z",
     "shell.execute_reply": "2022-01-10T18:43:11.489744Z",
     "shell.execute_reply.started": "2022-01-10T18:37:03.206524Z"
    },
    "papermill": {
     "duration": 0.033829,
     "end_time": "2022-01-10T18:43:11.489943",
     "exception": false,
     "start_time": "2022-01-10T18:43:11.456114",
     "status": "completed"
    },
    "tags": []
   },
   "outputs": [
    {
     "data": {
      "application/javascript": [
       "parent.postMessage({\"jupyterEvent\": \"custom.exercise_interaction\", \"data\": {\"outcomeType\": 1, \"valueTowardsCompletion\": 0.3333333333333333, \"interactionType\": 1, \"questionType\": 4, \"questionId\": \"1_ExamineProvince\", \"learnToolsVersion\": \"0.3.4\", \"failureMessage\": \"\", \"exceptionClass\": \"\", \"trace\": \"\"}}, \"*\")"
      ],
      "text/plain": [
       "<IPython.core.display.Javascript object>"
      ]
     },
     "metadata": {},
     "output_type": "display_data"
    },
    {
     "data": {
      "text/markdown": [
       "<span style=\"color:#33cc33\">Correct:</span> \n",
       "\n",
       "There are inconsistencies that can be fixed by removing white spaces at the beginning and end of cells.  For instance, \"University of Central Florida\" and \" University of Central Florida\" both appear in the column."
      ],
      "text/plain": [
       "Correct: \n",
       "\n",
       "There are inconsistencies that can be fixed by removing white spaces at the beginning and end of cells.  For instance, \"University of Central Florida\" and \" University of Central Florida\" both appear in the column."
      ]
     },
     "metadata": {},
     "output_type": "display_data"
    }
   ],
   "source": [
    "# Check your answer (Run this code cell to receive credit!)\n",
    "q1.check()"
   ]
  },
  {
   "cell_type": "code",
   "execution_count": 6,
   "id": "c43eaa78",
   "metadata": {
    "execution": {
     "iopub.execute_input": "2022-01-10T18:43:11.527937Z",
     "iopub.status.busy": "2022-01-10T18:43:11.527291Z",
     "iopub.status.idle": "2022-01-10T18:43:11.530887Z",
     "shell.execute_reply": "2022-01-10T18:43:11.531511Z"
    },
    "papermill": {
     "duration": 0.024544,
     "end_time": "2022-01-10T18:43:11.531706",
     "exception": false,
     "start_time": "2022-01-10T18:43:11.507162",
     "status": "completed"
    },
    "tags": []
   },
   "outputs": [],
   "source": [
    "# Line below will give you a hint\n",
    "#q1.hint()"
   ]
  },
  {
   "cell_type": "markdown",
   "id": "1537c179",
   "metadata": {
    "papermill": {
     "duration": 0.016884,
     "end_time": "2022-01-10T18:43:11.565701",
     "exception": false,
     "start_time": "2022-01-10T18:43:11.548817",
     "status": "completed"
    },
    "tags": []
   },
   "source": [
    "# 2) Do some text pre-processing\n",
    "\n",
    "Convert every entry in the \"Graduated from\" column in the `professors` DataFrame to remove white spaces at the beginning and end of cells."
   ]
  },
  {
   "cell_type": "code",
   "execution_count": 7,
   "id": "50762247",
   "metadata": {
    "execution": {
     "iopub.execute_input": "2022-01-10T18:43:11.610361Z",
     "iopub.status.busy": "2022-01-10T18:43:11.602927Z",
     "iopub.status.idle": "2022-01-10T18:43:11.615454Z",
     "shell.execute_reply": "2022-01-10T18:43:11.616059Z",
     "shell.execute_reply.started": "2022-01-10T18:35:09.209151Z"
    },
    "papermill": {
     "duration": 0.033441,
     "end_time": "2022-01-10T18:43:11.616260",
     "exception": false,
     "start_time": "2022-01-10T18:43:11.582819",
     "status": "completed"
    },
    "tags": []
   },
   "outputs": [
    {
     "data": {
      "application/javascript": [
       "parent.postMessage({\"jupyterEvent\": \"custom.exercise_interaction\", \"data\": {\"outcomeType\": 1, \"valueTowardsCompletion\": 0.3333333333333333, \"interactionType\": 1, \"questionType\": 1, \"questionId\": \"2_TextProcessing\", \"learnToolsVersion\": \"0.3.4\", \"failureMessage\": \"\", \"exceptionClass\": \"\", \"trace\": \"\"}}, \"*\")"
      ],
      "text/plain": [
       "<IPython.core.display.Javascript object>"
      ]
     },
     "metadata": {},
     "output_type": "display_data"
    },
    {
     "data": {
      "text/markdown": [
       "<span style=\"color:#33cc33\">Correct</span>"
      ],
      "text/plain": [
       "Correct"
      ]
     },
     "metadata": {},
     "output_type": "display_data"
    }
   ],
   "source": [
    "# TODO: Your code here\n",
    "professors['Graduated from'] = professors['Graduated from'].str.strip()\n",
    "\n",
    "# Check your answer\n",
    "q2.check()"
   ]
  },
  {
   "cell_type": "code",
   "execution_count": 8,
   "id": "adbafa96",
   "metadata": {
    "execution": {
     "iopub.execute_input": "2022-01-10T18:43:11.659847Z",
     "iopub.status.busy": "2022-01-10T18:43:11.659135Z",
     "iopub.status.idle": "2022-01-10T18:43:11.667290Z",
     "shell.execute_reply": "2022-01-10T18:43:11.666742Z",
     "shell.execute_reply.started": "2022-01-10T18:35:00.485899Z"
    },
    "papermill": {
     "duration": 0.031576,
     "end_time": "2022-01-10T18:43:11.667434",
     "exception": false,
     "start_time": "2022-01-10T18:43:11.635858",
     "status": "completed"
    },
    "tags": []
   },
   "outputs": [
    {
     "data": {
      "application/javascript": [
       "parent.postMessage({\"jupyterEvent\": \"custom.exercise_interaction\", \"data\": {\"interactionType\": 3, \"questionType\": 1, \"questionId\": \"2_TextProcessing\", \"learnToolsVersion\": \"0.3.4\", \"valueTowardsCompletion\": 0.0, \"failureMessage\": \"\", \"exceptionClass\": \"\", \"trace\": \"\", \"outcomeType\": 4}}, \"*\")"
      ],
      "text/plain": [
       "<IPython.core.display.Javascript object>"
      ]
     },
     "metadata": {},
     "output_type": "display_data"
    },
    {
     "data": {
      "text/markdown": [
       "<span style=\"color:#33cc99\">Solution:</span> \n",
       "```python\n",
       "professors['Graduated from'] = professors['Graduated from'].str.strip()\n",
       "\n",
       "```"
      ],
      "text/plain": [
       "Solution: \n",
       "```python\n",
       "professors['Graduated from'] = professors['Graduated from'].str.strip()\n",
       "\n",
       "```"
      ]
     },
     "metadata": {},
     "output_type": "display_data"
    }
   ],
   "source": [
    "# Lines below will give you a hint or solution code\n",
    "#q2.hint()\n",
    "q2.solution()"
   ]
  },
  {
   "cell_type": "markdown",
   "id": "93eca652",
   "metadata": {
    "papermill": {
     "duration": 0.022196,
     "end_time": "2022-01-10T18:43:11.709744",
     "exception": false,
     "start_time": "2022-01-10T18:43:11.687548",
     "status": "completed"
    },
    "tags": []
   },
   "source": [
    "# 3) Continue working with countries\n",
    "\n",
    "In the tutorial, we focused on cleaning up inconsistencies in the \"Country\" column.  Run the code cell below to view the list of unique values that we ended with."
   ]
  },
  {
   "cell_type": "code",
   "execution_count": 9,
   "id": "ccc53630",
   "metadata": {
    "execution": {
     "iopub.execute_input": "2022-01-10T18:43:11.754113Z",
     "iopub.status.busy": "2022-01-10T18:43:11.751667Z",
     "iopub.status.idle": "2022-01-10T18:43:11.759635Z",
     "shell.execute_reply": "2022-01-10T18:43:11.760205Z",
     "shell.execute_reply.started": "2022-01-10T18:35:26.838334Z"
    },
    "papermill": {
     "duration": 0.031269,
     "end_time": "2022-01-10T18:43:11.760389",
     "exception": false,
     "start_time": "2022-01-10T18:43:11.729120",
     "status": "completed"
    },
    "tags": []
   },
   "outputs": [
    {
     "data": {
      "text/plain": [
       "array(['australia', 'austria', 'canada', 'china', 'finland', 'france',\n",
       "       'germany', 'greece', 'hongkong', 'ireland', 'italy', 'japan',\n",
       "       'macau', 'malaysia', 'mauritius', 'netherland', 'new zealand',\n",
       "       'norway', 'pakistan', 'portugal', 'russian federation',\n",
       "       'saudi arabia', 'scotland', 'singapore', 'south korea', 'spain',\n",
       "       'sweden', 'thailand', 'turkey', 'uk', 'urbana', 'usa', 'usofa'],\n",
       "      dtype=object)"
      ]
     },
     "execution_count": 9,
     "metadata": {},
     "output_type": "execute_result"
    }
   ],
   "source": [
    "# get all the unique values in the 'City' column\n",
    "countries = professors['Country'].unique()\n",
    "\n",
    "# sort them alphabetically and then take a closer look\n",
    "countries.sort()\n",
    "countries"
   ]
  },
  {
   "cell_type": "markdown",
   "id": "73fa7d2b",
   "metadata": {
    "papermill": {
     "duration": 0.01891,
     "end_time": "2022-01-10T18:43:11.799010",
     "exception": false,
     "start_time": "2022-01-10T18:43:11.780100",
     "status": "completed"
    },
    "tags": []
   },
   "source": [
    "Take another look at the \"Country\" column and see if there's any more data cleaning we need to do.\n",
    "\n",
    "It looks like 'usa' and 'usofa' should be the same country.  Correct the \"Country\" column in the dataframe to replace 'usofa' with 'usa'.\n",
    "\n",
    "**Use the most recent version of the DataFrame (with the whitespaces at the beginning and end of cells removed) from question 2.**"
   ]
  },
  {
   "cell_type": "code",
   "execution_count": 10,
   "id": "8af169e2",
   "metadata": {
    "execution": {
     "iopub.execute_input": "2022-01-10T18:43:11.842407Z",
     "iopub.status.busy": "2022-01-10T18:43:11.841776Z",
     "iopub.status.idle": "2022-01-10T18:43:11.855943Z",
     "shell.execute_reply": "2022-01-10T18:43:11.856518Z",
     "shell.execute_reply.started": "2022-01-10T18:42:12.569267Z"
    },
    "papermill": {
     "duration": 0.037522,
     "end_time": "2022-01-10T18:43:11.856695",
     "exception": false,
     "start_time": "2022-01-10T18:43:11.819173",
     "status": "completed"
    },
    "tags": []
   },
   "outputs": [
    {
     "name": "stdout",
     "output_type": "stream",
     "text": [
      "All done!\n"
     ]
    },
    {
     "data": {
      "application/javascript": [
       "parent.postMessage({\"jupyterEvent\": \"custom.exercise_interaction\", \"data\": {\"outcomeType\": 1, \"valueTowardsCompletion\": 0.3333333333333333, \"interactionType\": 1, \"questionType\": 1, \"questionId\": \"3_WorkingWithCities\", \"learnToolsVersion\": \"0.3.4\", \"failureMessage\": \"\", \"exceptionClass\": \"\", \"trace\": \"\"}}, \"*\")"
      ],
      "text/plain": [
       "<IPython.core.display.Javascript object>"
      ]
     },
     "metadata": {},
     "output_type": "display_data"
    },
    {
     "data": {
      "text/markdown": [
       "<span style=\"color:#33cc33\">Correct</span>"
      ],
      "text/plain": [
       "Correct"
      ]
     },
     "metadata": {},
     "output_type": "display_data"
    }
   ],
   "source": [
    "# TODO: Your code here!\n",
    "matches = fuzzywuzzy.process.extract(\"usa\", countries, limit=10, scorer=fuzzywuzzy.fuzz.token_sort_ratio)\n",
    "replace_matches_in_column(professors, 'Country', \"usa\", 74)\n",
    "\n",
    "# Check your answer\n",
    "q3.check()"
   ]
  },
  {
   "cell_type": "code",
   "execution_count": 11,
   "id": "d020cc79",
   "metadata": {
    "execution": {
     "iopub.execute_input": "2022-01-10T18:43:11.905744Z",
     "iopub.status.busy": "2022-01-10T18:43:11.904965Z",
     "iopub.status.idle": "2022-01-10T18:43:11.911799Z",
     "shell.execute_reply": "2022-01-10T18:43:11.912371Z",
     "shell.execute_reply.started": "2022-01-10T18:38:19.059983Z"
    },
    "papermill": {
     "duration": 0.034381,
     "end_time": "2022-01-10T18:43:11.912579",
     "exception": false,
     "start_time": "2022-01-10T18:43:11.878198",
     "status": "completed"
    },
    "tags": []
   },
   "outputs": [
    {
     "data": {
      "application/javascript": [
       "parent.postMessage({\"jupyterEvent\": \"custom.exercise_interaction\", \"data\": {\"interactionType\": 3, \"questionType\": 1, \"questionId\": \"3_WorkingWithCities\", \"learnToolsVersion\": \"0.3.4\", \"valueTowardsCompletion\": 0.0, \"failureMessage\": \"\", \"exceptionClass\": \"\", \"trace\": \"\", \"outcomeType\": 4}}, \"*\")"
      ],
      "text/plain": [
       "<IPython.core.display.Javascript object>"
      ]
     },
     "metadata": {},
     "output_type": "display_data"
    },
    {
     "data": {
      "text/markdown": [
       "<span style=\"color:#33cc99\">Solution:</span> \n",
       "```python\n",
       "matches = fuzzywuzzy.process.extract(\"usa\", countries, limit=10, scorer=fuzzywuzzy.fuzz.token_sort_ratio)\n",
       "replace_matches_in_column(df=professors, column='Country', string_to_match=\"usa\", min_ratio=70)\n",
       "\n",
       "```"
      ],
      "text/plain": [
       "Solution: \n",
       "```python\n",
       "matches = fuzzywuzzy.process.extract(\"usa\", countries, limit=10, scorer=fuzzywuzzy.fuzz.token_sort_ratio)\n",
       "replace_matches_in_column(df=professors, column='Country', string_to_match=\"usa\", min_ratio=70)\n",
       "\n",
       "```"
      ]
     },
     "metadata": {},
     "output_type": "display_data"
    }
   ],
   "source": [
    "# Lines below will give you a hint or solution code\n",
    "#q3.hint()\n",
    "q3.solution()"
   ]
  },
  {
   "cell_type": "markdown",
   "id": "bde818e8",
   "metadata": {
    "papermill": {
     "duration": 0.022359,
     "end_time": "2022-01-10T18:43:11.957362",
     "exception": false,
     "start_time": "2022-01-10T18:43:11.935003",
     "status": "completed"
    },
    "tags": []
   },
   "source": [
    "# Congratulations!\n",
    "\n",
    "Congratulations for completing the **Data Cleaning** course on Kaggle Learn!\n",
    "\n",
    "To practice your new skills, you're encouraged to download and investigate some of [Kaggle's Datasets](https://www.kaggle.com/datasets)."
   ]
  },
  {
   "cell_type": "markdown",
   "id": "c0fc9045",
   "metadata": {
    "papermill": {
     "duration": 0.02379,
     "end_time": "2022-01-10T18:43:12.003739",
     "exception": false,
     "start_time": "2022-01-10T18:43:11.979949",
     "status": "completed"
    },
    "tags": []
   },
   "source": [
    "---\n",
    "\n",
    "\n",
    "\n",
    "\n",
    "*Have questions or comments? Visit the [course discussion forum](https://www.kaggle.com/learn/data-cleaning/discussion) to chat with other learners.*"
   ]
  }
 ],
 "metadata": {
  "kernelspec": {
   "display_name": "Python 3",
   "language": "python",
   "name": "python3"
  },
  "language_info": {
   "codemirror_mode": {
    "name": "ipython",
    "version": 3
   },
   "file_extension": ".py",
   "mimetype": "text/x-python",
   "name": "python",
   "nbconvert_exporter": "python",
   "pygments_lexer": "ipython3",
   "version": "3.7.12"
  },
  "papermill": {
   "default_parameters": {},
   "duration": 12.698857,
   "end_time": "2022-01-10T18:43:12.739896",
   "environment_variables": {},
   "exception": null,
   "input_path": "__notebook__.ipynb",
   "output_path": "__notebook__.ipynb",
   "parameters": {},
   "start_time": "2022-01-10T18:43:00.041039",
   "version": "2.3.3"
  }
 },
 "nbformat": 4,
 "nbformat_minor": 5
}
