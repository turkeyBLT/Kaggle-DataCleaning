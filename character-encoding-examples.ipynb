{
 "cells": [
  {
   "cell_type": "code",
   "execution_count": 1,
   "id": "f0a028bd",
   "metadata": {
    "_cell_guid": "b1076dfc-b9ad-4769-8c92-a6c4dae69d19",
    "_uuid": "8f2839f25d086af736a60e9eeb907d3b93b6e0e5",
    "execution": {
     "iopub.execute_input": "2022-01-11T16:38:43.255987Z",
     "iopub.status.busy": "2022-01-11T16:38:43.247123Z",
     "iopub.status.idle": "2022-01-11T16:38:43.276413Z",
     "shell.execute_reply": "2022-01-11T16:38:43.277011Z",
     "shell.execute_reply.started": "2022-01-11T16:38:00.798226Z"
    },
    "papermill": {
     "duration": 0.044923,
     "end_time": "2022-01-11T16:38:43.277346",
     "exception": false,
     "start_time": "2022-01-11T16:38:43.232423",
     "status": "completed"
    },
    "tags": []
   },
   "outputs": [
    {
     "name": "stdout",
     "output_type": "stream",
     "text": [
      "['/kaggle/input/character-encoding-examples/file_guide.csv', '/kaggle/input/character-encoding-examples/olaf_Windows-1251.txt', '/kaggle/input/character-encoding-examples/shisei_UTF-8.txt', '/kaggle/input/character-encoding-examples/die_ISO-8859-1.txt', '/kaggle/input/character-encoding-examples/harpers_ASCII.txt', '/kaggle/input/character-encoding-examples/yan_BIG-5.txt', '/kaggle/input/character-encoding-examples/portugal_ISO-8859-1.txt']\n"
     ]
    }
   ],
   "source": [
    "import numpy as np # linear algebra\n",
    "import pandas as pd # data processing, CSV file I/O (e.g. pd.read_csv)\n",
    "import os\n",
    "\n",
    "for dirname, _, filenames in os.walk('/kaggle/input'):\n",
    "    file_paths = []\n",
    "    for filename in filenames:\n",
    "        file_paths.append(os.path.join(dirname, filename))\n",
    "        \n",
    "# prints a list with all the files' paths\n",
    "print(file_paths)"
   ]
  },
  {
   "cell_type": "code",
   "execution_count": 2,
   "id": "9894c4a1",
   "metadata": {
    "execution": {
     "iopub.execute_input": "2022-01-11T16:38:43.303103Z",
     "iopub.status.busy": "2022-01-11T16:38:43.301888Z",
     "iopub.status.idle": "2022-01-11T16:38:43.750484Z",
     "shell.execute_reply": "2022-01-11T16:38:43.749735Z",
     "shell.execute_reply.started": "2022-01-11T16:38:00.811010Z"
    },
    "papermill": {
     "duration": 0.462225,
     "end_time": "2022-01-11T16:38:43.750647",
     "exception": false,
     "start_time": "2022-01-11T16:38:43.288422",
     "status": "completed"
    },
    "tags": []
   },
   "outputs": [
    {
     "name": "stdout",
     "output_type": "stream",
     "text": [
      "[{'encoding': 'utf-8', 'confidence': 0.7525, 'language': ''}, {'encoding': 'windows-1251', 'confidence': 0.99, 'language': 'Bulgarian'}, {'encoding': 'UTF-8-SIG', 'confidence': 1.0, 'language': ''}, {'encoding': 'ISO-8859-1', 'confidence': 0.6710888129803586, 'language': ''}, {'encoding': 'ascii', 'confidence': 1.0, 'language': ''}, {'encoding': 'Big5', 'confidence': 0.99, 'language': 'Chinese'}, {'encoding': 'ISO-8859-1', 'confidence': 0.73, 'language': ''}]\n"
     ]
    }
   ],
   "source": [
    "import chardet # helpful character encoding module\n",
    "\n",
    "# look at the first ten thousand bytes of each file to guess the character encoding\n",
    "# appends the result of each file to the encondings list\n",
    "encodings = []\n",
    "for path in file_paths:\n",
    "    with open(path, 'rb') as file:\n",
    "        result = chardet.detect(file.read(10000))\n",
    "        encodings.append(result)\n",
    "print(encodings)"
   ]
  },
  {
   "cell_type": "code",
   "execution_count": 3,
   "id": "44a9bf68",
   "metadata": {
    "execution": {
     "iopub.execute_input": "2022-01-11T16:38:43.789443Z",
     "iopub.status.busy": "2022-01-11T16:38:43.788679Z",
     "iopub.status.idle": "2022-01-11T16:38:43.816508Z",
     "shell.execute_reply": "2022-01-11T16:38:43.817403Z",
     "shell.execute_reply.started": "2022-01-11T16:38:01.139692Z"
    },
    "papermill": {
     "duration": 0.055751,
     "end_time": "2022-01-11T16:38:43.817661",
     "exception": false,
     "start_time": "2022-01-11T16:38:43.761910",
     "status": "completed"
    },
    "tags": []
   },
   "outputs": [
    {
     "data": {
      "text/html": [
       "<div>\n",
       "<style scoped>\n",
       "    .dataframe tbody tr th:only-of-type {\n",
       "        vertical-align: middle;\n",
       "    }\n",
       "\n",
       "    .dataframe tbody tr th {\n",
       "        vertical-align: top;\n",
       "    }\n",
       "\n",
       "    .dataframe thead th {\n",
       "        text-align: right;\n",
       "    }\n",
       "</style>\n",
       "<table border=\"1\" class=\"dataframe\">\n",
       "  <thead>\n",
       "    <tr style=\"text-align: right;\">\n",
       "      <th></th>\n",
       "      <th>File</th>\n",
       "      <th>Text</th>\n",
       "      <th>Author</th>\n",
       "      <th>Encoding</th>\n",
       "      <th>Language</th>\n",
       "      <th>Words</th>\n",
       "    </tr>\n",
       "  </thead>\n",
       "  <tbody>\n",
       "    <tr>\n",
       "      <th>0</th>\n",
       "      <td>die_ISO-8859-1.txt</td>\n",
       "      <td>Die Fürstin</td>\n",
       "      <td>Kasimir Edschmid</td>\n",
       "      <td>ISO-8859-1</td>\n",
       "      <td>German</td>\n",
       "      <td>13314</td>\n",
       "    </tr>\n",
       "    <tr>\n",
       "      <th>1</th>\n",
       "      <td>harpers_ASCII.txt</td>\n",
       "      <td>Harper's Round Table, October 8, 1895</td>\n",
       "      <td>Various</td>\n",
       "      <td>ASCII</td>\n",
       "      <td>English</td>\n",
       "      <td>29094</td>\n",
       "    </tr>\n",
       "    <tr>\n",
       "      <th>2</th>\n",
       "      <td>olaf_Windows-1251.txt</td>\n",
       "      <td>Olaf van Geldern</td>\n",
       "      <td>Pencho Slaveykov</td>\n",
       "      <td>Windows 1251</td>\n",
       "      <td>Bulgarian</td>\n",
       "      <td>2790</td>\n",
       "    </tr>\n",
       "    <tr>\n",
       "      <th>3</th>\n",
       "      <td>portugal_ISO-8859-1.txt</td>\n",
       "      <td>Portugal enfermo por vicios, e abusos de ambos...</td>\n",
       "      <td>José Daniel Rodrigues da Costa</td>\n",
       "      <td>ISO-8859-1</td>\n",
       "      <td>Portuguese</td>\n",
       "      <td>14215</td>\n",
       "    </tr>\n",
       "    <tr>\n",
       "      <th>4</th>\n",
       "      <td>shisei_UTF-8.txt</td>\n",
       "      <td>Shisei</td>\n",
       "      <td>Junichiro Tanizaki</td>\n",
       "      <td>UTF-8</td>\n",
       "      <td>Japanese</td>\n",
       "      <td>4809</td>\n",
       "    </tr>\n",
       "    <tr>\n",
       "      <th>5</th>\n",
       "      <td>yan_BIG-5.txt</td>\n",
       "      <td>Yan shi jia xun</td>\n",
       "      <td>Yan Zhitui</td>\n",
       "      <td>BIG-5</td>\n",
       "      <td>Chinese</td>\n",
       "      <td>2538</td>\n",
       "    </tr>\n",
       "  </tbody>\n",
       "</table>\n",
       "</div>"
      ],
      "text/plain": [
       "                      File                                               Text  \\\n",
       "0       die_ISO-8859-1.txt                                        Die Fürstin   \n",
       "1        harpers_ASCII.txt              Harper's Round Table, October 8, 1895   \n",
       "2    olaf_Windows-1251.txt                                   Olaf van Geldern   \n",
       "3  portugal_ISO-8859-1.txt  Portugal enfermo por vicios, e abusos de ambos...   \n",
       "4         shisei_UTF-8.txt                                             Shisei   \n",
       "5            yan_BIG-5.txt                                    Yan shi jia xun   \n",
       "\n",
       "                           Author      Encoding    Language  Words  \n",
       "0                Kasimir Edschmid    ISO-8859-1      German  13314  \n",
       "1                         Various         ASCII     English  29094  \n",
       "2                Pencho Slaveykov  Windows 1251   Bulgarian   2790  \n",
       "3  José Daniel Rodrigues da Costa    ISO-8859-1  Portuguese  14215  \n",
       "4              Junichiro Tanizaki         UTF-8    Japanese   4809  \n",
       "5                      Yan Zhitui         BIG-5     Chinese   2538  "
      ]
     },
     "execution_count": 3,
     "metadata": {},
     "output_type": "execute_result"
    }
   ],
   "source": [
    "#File 0: file_guide.csv\n",
    "# reads first file using pandas\n",
    "file_0 = pd.read_csv(file_paths[0], encoding=encodings[0]['encoding'])\n",
    "file_0"
   ]
  },
  {
   "cell_type": "code",
   "execution_count": 4,
   "id": "0d9917f7",
   "metadata": {
    "execution": {
     "iopub.execute_input": "2022-01-11T16:38:43.850337Z",
     "iopub.status.busy": "2022-01-11T16:38:43.849298Z",
     "iopub.status.idle": "2022-01-11T16:38:43.852287Z",
     "shell.execute_reply": "2022-01-11T16:38:43.851688Z",
     "shell.execute_reply.started": "2022-01-11T16:38:01.157005Z"
    },
    "papermill": {
     "duration": 0.018184,
     "end_time": "2022-01-11T16:38:43.852444",
     "exception": false,
     "start_time": "2022-01-11T16:38:43.834260",
     "status": "completed"
    },
    "tags": []
   },
   "outputs": [],
   "source": [
    "#File 1: olaf_Windows-1251.txt\n",
    "# tries to read file using pandas with no success\n",
    "#file_1 = pd.read_csv(file_paths[1], encoding=encodings[1]['encoding'])\n"
   ]
  },
  {
   "cell_type": "markdown",
   "id": "b9f93b3c",
   "metadata": {
    "papermill": {
     "duration": 0.01131,
     "end_time": "2022-01-11T16:38:43.875567",
     "exception": false,
     "start_time": "2022-01-11T16:38:43.864257",
     "status": "completed"
    },
    "tags": []
   },
   "source": [
    "We won't be able to use pandas to open the next files. Pandas read files into DataFrames."
   ]
  },
  {
   "cell_type": "code",
   "execution_count": 5,
   "id": "386d30e9",
   "metadata": {
    "execution": {
     "iopub.execute_input": "2022-01-11T16:38:43.911872Z",
     "iopub.status.busy": "2022-01-11T16:38:43.910931Z",
     "iopub.status.idle": "2022-01-11T16:38:43.916917Z",
     "shell.execute_reply": "2022-01-11T16:38:43.916316Z",
     "shell.execute_reply.started": "2022-01-11T16:38:01.161046Z"
    },
    "papermill": {
     "duration": 0.029958,
     "end_time": "2022-01-11T16:38:43.917063",
     "exception": false,
     "start_time": "2022-01-11T16:38:43.887105",
     "status": "completed"
    },
    "tags": []
   },
   "outputs": [
    {
     "name": "stdout",
     "output_type": "stream",
     "text": [
      "The Project Gutenberg EBook of Olaf van Geldern, by Pencho Slaveykov\n",
      "(#1 in our series by Pencho Slaveykov, note that #2 is our etext #3433,\n",
      "with a September 2002 release date.)\n",
      "\n",
      "Copyright laws are changing all over the world. Be sure to check the\n",
      "copyright laws for your country before downloading or redistributing\n",
      "this or any other Project Gutenberg eBook.\n",
      "\n",
      "This header should be the first thing seen when viewing this Project\n",
      "Gutenberg file.  Please do not remove it.  Do not change or edit the\n",
      "h\n"
     ]
    }
   ],
   "source": [
    "#File 1: olaf_Windows-1251.txt\n",
    "with open(file_paths[1], encoding=encodings[1]['encoding']) as file:\n",
    "    result = file.read(500)\n",
    "print(result)"
   ]
  },
  {
   "cell_type": "code",
   "execution_count": 6,
   "id": "60c47bcc",
   "metadata": {
    "execution": {
     "iopub.execute_input": "2022-01-11T16:38:43.951261Z",
     "iopub.status.busy": "2022-01-11T16:38:43.950264Z",
     "iopub.status.idle": "2022-01-11T16:38:43.961738Z",
     "shell.execute_reply": "2022-01-11T16:38:43.960833Z",
     "shell.execute_reply.started": "2022-01-11T16:38:01.174831Z"
    },
    "papermill": {
     "duration": 0.031358,
     "end_time": "2022-01-11T16:38:43.962060",
     "exception": false,
     "start_time": "2022-01-11T16:38:43.930702",
     "status": "completed"
    },
    "tags": []
   },
   "outputs": [
    {
     "name": "stdout",
     "output_type": "stream",
     "text": [
      "The Project Gutenberg EBook of Shisei, by Junichiro Tanizaki\n",
      "\n",
      "This eBook is for the use of anyone anywhere at no cost and with\n",
      "almost no restrictions whatsoever.  You may copy it, give it away or\n",
      "re-use it under the terms of the Project Gutenberg License included\n",
      "with this eBook or online at www.gutenberg.net\n",
      "\n",
      "\n",
      "Title: Shisei\n",
      "\n",
      "Author: Junichiro Tanizaki\n",
      "\n",
      "Release Date: March 13, 2010 [EBook #31617]\n",
      "\n",
      "Language: Japanese\n",
      "\n",
      "Character set encoding: UTF-8\n",
      "\n",
      "*** START OF THIS PROJECT GUTENBERG EBOOK SHISEI\n"
     ]
    }
   ],
   "source": [
    "#File 2: shisei_UTF-8.txt\n",
    "with open(file_paths[2], encoding=encodings[2]['encoding']) as file:\n",
    "    result = file.read(500)\n",
    "print(result)"
   ]
  },
  {
   "cell_type": "code",
   "execution_count": 7,
   "id": "a7848b34",
   "metadata": {
    "execution": {
     "iopub.execute_input": "2022-01-11T16:38:43.996616Z",
     "iopub.status.busy": "2022-01-11T16:38:43.995559Z",
     "iopub.status.idle": "2022-01-11T16:38:44.002575Z",
     "shell.execute_reply": "2022-01-11T16:38:44.003413Z",
     "shell.execute_reply.started": "2022-01-11T16:38:01.186546Z"
    },
    "papermill": {
     "duration": 0.025243,
     "end_time": "2022-01-11T16:38:44.003635",
     "exception": false,
     "start_time": "2022-01-11T16:38:43.978392",
     "status": "completed"
    },
    "tags": []
   },
   "outputs": [
    {
     "name": "stdout",
     "output_type": "stream",
     "text": [
      "The Project Gutenberg EBook of Die Fürstin, by Kasimir Edschmid\n",
      "\n",
      "This eBook is for the use of anyone anywhere at no cost and with\n",
      "almost no restrictions whatsoever.  You may copy it, give it away or\n",
      "re-use it under the terms of the Project Gutenberg License included\n",
      "with this eBook or online at www.gutenberg.net\n",
      "\n",
      "\n",
      "Title: Die Fürstin\n",
      "\n",
      "Author: Kasimir Edschmid\n",
      "\n",
      "Release Date: May 15, 2010 [EBook #32385]\n",
      "\n",
      "Language: German\n",
      "\n",
      "Character set encoding: ISO-8859-1\n",
      "\n",
      "*** START OF THIS PROJECT GUTENBERG EBOOK\n"
     ]
    }
   ],
   "source": [
    "#File 3: die_ISO-8859-1.txt\n",
    "with open(file_paths[3], encoding=encodings[3]['encoding']) as file:\n",
    "    result = file.read(500)\n",
    "print(result)"
   ]
  },
  {
   "cell_type": "code",
   "execution_count": 8,
   "id": "8dc349fd",
   "metadata": {
    "execution": {
     "iopub.execute_input": "2022-01-11T16:38:44.037580Z",
     "iopub.status.busy": "2022-01-11T16:38:44.036860Z",
     "iopub.status.idle": "2022-01-11T16:38:44.041143Z",
     "shell.execute_reply": "2022-01-11T16:38:44.042001Z",
     "shell.execute_reply.started": "2022-01-11T16:38:01.196560Z"
    },
    "papermill": {
     "duration": 0.02426,
     "end_time": "2022-01-11T16:38:44.042198",
     "exception": false,
     "start_time": "2022-01-11T16:38:44.017938",
     "status": "completed"
    },
    "tags": []
   },
   "outputs": [
    {
     "name": "stdout",
     "output_type": "stream",
     "text": [
      "Project Gutenberg's Harper's Round Table, October 8, 1895, by Various\n",
      "\n",
      "This eBook is for the use of anyone anywhere at no cost and with\n",
      "almost no restrictions whatsoever.  You may copy it, give it away or\n",
      "re-use it under the terms of the Project Gutenberg License included\n",
      "with this eBook or online at www.gutenberg.org\n",
      "\n",
      "\n",
      "Title: Harper's Round Table, October 8, 1895\n",
      "\n",
      "Author: Various\n",
      "\n",
      "Release Date: July 14, 2010 [EBook #33158]\n",
      "\n",
      "Language: English\n",
      "\n",
      "Character set encoding: ASCII\n",
      "\n",
      "*** START OF THIS PRO\n"
     ]
    }
   ],
   "source": [
    "#File 4: harpers_ASCII.txt\n",
    "with open(file_paths[4], encoding=encodings[4]['encoding']) as file:\n",
    "    result = file.read(500)\n",
    "print(result)"
   ]
  },
  {
   "cell_type": "code",
   "execution_count": 9,
   "id": "13e4310c",
   "metadata": {
    "execution": {
     "iopub.execute_input": "2022-01-11T16:38:44.073406Z",
     "iopub.status.busy": "2022-01-11T16:38:44.072653Z",
     "iopub.status.idle": "2022-01-11T16:38:44.080915Z",
     "shell.execute_reply": "2022-01-11T16:38:44.081827Z",
     "shell.execute_reply.started": "2022-01-11T16:38:01.209334Z"
    },
    "papermill": {
     "duration": 0.026977,
     "end_time": "2022-01-11T16:38:44.082069",
     "exception": false,
     "start_time": "2022-01-11T16:38:44.055092",
     "status": "completed"
    },
    "tags": []
   },
   "outputs": [
    {
     "name": "stdout",
     "output_type": "stream",
     "text": [
      "The Project Gutenberg EBook of Yan shi jia xun, by Yan Zhitui\n",
      "#4 in our series by Yan Zhitui\n",
      "\n",
      "Copyright laws are changing all over the world. Be sure to check the\n",
      "copyright laws for your country before downloading or redistributing\n",
      "this or any other Project Gutenberg eBook.\n",
      "\n",
      "This header should be the first thing seen when viewing this Project\n",
      "Gutenberg file.  Please do not remove it.  Do not change or edit the\n",
      "header without written permission.\n",
      "\n",
      "Please read the \"legal small print,\" and other inf\n"
     ]
    }
   ],
   "source": [
    "#File 5: yan_BIG-5.txt\n",
    "with open(file_paths[5], encoding=encodings[5]['encoding']) as file:\n",
    "    result = file.read(500)\n",
    "print(result)"
   ]
  },
  {
   "cell_type": "code",
   "execution_count": 10,
   "id": "18c5c8f5",
   "metadata": {
    "execution": {
     "iopub.execute_input": "2022-01-11T16:38:44.120383Z",
     "iopub.status.busy": "2022-01-11T16:38:44.119415Z",
     "iopub.status.idle": "2022-01-11T16:38:44.124389Z",
     "shell.execute_reply": "2022-01-11T16:38:44.123293Z",
     "shell.execute_reply.started": "2022-01-11T16:38:01.221794Z"
    },
    "papermill": {
     "duration": 0.024273,
     "end_time": "2022-01-11T16:38:44.124640",
     "exception": false,
     "start_time": "2022-01-11T16:38:44.100367",
     "status": "completed"
    },
    "tags": []
   },
   "outputs": [
    {
     "name": "stdout",
     "output_type": "stream",
     "text": [
      "The Project Gutenberg EBook of Portugal enfermo por vicios, e abusos de\n",
      "ambos os sexos, by José Daniel Rodrigues da Costa\n",
      "\n",
      "This eBook is for the use of anyone anywhere at no cost and with\n",
      "almost no restrictions whatsoever.  You may copy it, give it away or\n",
      "re-use it under the terms of the Project Gutenberg License included\n",
      "with this eBook or online at www.gutenberg.net\n",
      "\n",
      "\n",
      "Title: Portugal enfermo por vicios, e abusos de ambos os sexos\n",
      "\n",
      "Author: José Daniel Rodrigues da Costa\n",
      "\n",
      "Release Date: March 23\n"
     ]
    }
   ],
   "source": [
    "#File 6: portugal_ISO-8859-1.txt\n",
    "with open(file_paths[6], encoding=encodings[6]['encoding']) as file:\n",
    "    result = file.read(500)\n",
    "print(result)"
   ]
  },
  {
   "cell_type": "markdown",
   "id": "647f53af",
   "metadata": {
    "papermill": {
     "duration": 0.013352,
     "end_time": "2022-01-11T16:38:44.153138",
     "exception": false,
     "start_time": "2022-01-11T16:38:44.139786",
     "status": "completed"
    },
    "tags": []
   },
   "source": [
    "The code was able to successfully predict and open the files with their respective encondings."
   ]
  }
 ],
 "metadata": {
  "kernelspec": {
   "display_name": "Python 3",
   "language": "python",
   "name": "python3"
  },
  "language_info": {
   "codemirror_mode": {
    "name": "ipython",
    "version": 3
   },
   "file_extension": ".py",
   "mimetype": "text/x-python",
   "name": "python",
   "nbconvert_exporter": "python",
   "pygments_lexer": "ipython3",
   "version": "3.7.12"
  },
  "papermill": {
   "default_parameters": {},
   "duration": 11.076811,
   "end_time": "2022-01-11T16:38:44.775857",
   "environment_variables": {},
   "exception": null,
   "input_path": "__notebook__.ipynb",
   "output_path": "__notebook__.ipynb",
   "parameters": {},
   "start_time": "2022-01-11T16:38:33.699046",
   "version": "2.3.3"
  }
 },
 "nbformat": 4,
 "nbformat_minor": 5
}
